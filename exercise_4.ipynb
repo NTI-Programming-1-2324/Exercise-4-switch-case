{
 "cells": [
  {
   "cell_type": "markdown",
   "metadata": {},
   "source": [
    "# Dagar i Veckan\n",
    "Skriv ett program som tar in ett heltal mellan 1 och 7 och skriver ut motsvarande dag i veckan (1 = måndag, 2 = tisdag, osv). Använd switch-case för att hantera varje fall."
   ]
  },
  {
   "cell_type": "code",
   "execution_count": null,
   "metadata": {},
   "outputs": [],
   "source": []
  },
  {
   "cell_type": "markdown",
   "metadata": {},
   "source": [
    "# Månadens Dagar\n",
    "Skriv ett program som tar in en månad (som en sträng, t.ex. \"januari\") och returnerar antalet dagar i den månaden. Tänk på att februari kan ha 28 eller 29 dagar beroende på om det är ett skottår eller inte.\n"
   ]
  },
  {
   "cell_type": "code",
   "execution_count": null,
   "metadata": {},
   "outputs": [],
   "source": []
  },
  {
   "cell_type": "markdown",
   "metadata": {},
   "source": [
    "# Betygskonvertering\n",
    "Skriv ett program som tar in en students betyg som en bokstav (A, B, C, osv.) och returnerar en beskrivande text (t.ex. \"Utmärkt\" för A, \"Bra\" för B, osv.). Använd match-case för varje bokstavsbetyg."
   ]
  },
  {
   "cell_type": "code",
   "execution_count": null,
   "metadata": {},
   "outputs": [],
   "source": []
  },
  {
   "cell_type": "markdown",
   "metadata": {},
   "source": [
    "\n",
    "# Räkneoperationer\n",
    "\n",
    "Skriv ett program som tar in två tal och en operator (t.ex. '+', '-', '*', '/'). Använd match-case för att utföra den valda räkneoperationen på de två talen och skriv ut resultatet."
   ]
  },
  {
   "cell_type": "code",
   "execution_count": null,
   "metadata": {},
   "outputs": [],
   "source": []
  },
  {
   "cell_type": "markdown",
   "metadata": {},
   "source": [
    "\n",
    "# Växelkurs\n",
    "\n",
    "Skriv ett program som tar in en summa i svenska kronor och en valuta (t.ex. \"USD\", \"EUR\", \"GBP\"). Använd match-case för att konvertera summan till den valda valutan baserat på en förutbestämd växelkurs."
   ]
  },
  {
   "cell_type": "code",
   "execution_count": null,
   "metadata": {},
   "outputs": [],
   "source": []
  },
  {
   "cell_type": "markdown",
   "metadata": {},
   "source": [
    "# Djurriket\n",
    "Skriv ett program som tar in namnet på ett djur och skriver ut vilken kategori det tillhör (t.ex. \"fågel\", \"fisk\", \"däggdjur\"). Använd switch-case för att bestämma kategorin baserat på djurets namn."
   ]
  },
  {
   "cell_type": "code",
   "execution_count": null,
   "metadata": {},
   "outputs": [],
   "source": []
  }
 ],
 "metadata": {
  "language_info": {
   "name": "python"
  }
 },
 "nbformat": 4,
 "nbformat_minor": 2
}
